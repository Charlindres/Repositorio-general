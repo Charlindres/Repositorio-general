{
 "cells": [
  {
   "cell_type": "code",
   "execution_count": 6,
   "metadata": {
    "collapsed": false
   },
   "outputs": [
    {
     "name": "stdout",
     "output_type": "stream",
     "text": [
      "Requirement already satisfied (use --upgrade to upgrade): jupyter in c:\\users\\agulloc\\appdata\\local\\continuum\\anaconda\\lib\\site-packages\n"
     ]
    }
   ],
   "source": [
    "!pip install jupyter\n"
   ]
  },
  {
   "cell_type": "code",
   "execution_count": 2,
   "metadata": {
    "collapsed": false
   },
   "outputs": [
    {
     "name": "stderr",
     "output_type": "stream",
     "text": [
      "C:\\Users\\agulloc\\AppData\\Local\\Continuum\\Anaconda\\lib\\site-packages\\ipykernel\\__main__.py:3: FutureWarning: Map.create_map is deprecated. Use Map.save instead\n",
      "  app.launch_new_instance()\n"
     ]
    }
   ],
   "source": [
    "import folium\n",
    "map_osm = folium.Map(location=[40.446196, -3.691306])\n",
    "map_osm.create_map(path='osm.html')"
   ]
  },
  {
   "cell_type": "code",
   "execution_count": null,
   "metadata": {
    "collapsed": true
   },
   "outputs": [],
   "source": []
  }
 ],
 "metadata": {
  "kernelspec": {
   "display_name": "Python 2",
   "language": "python",
   "name": "python2"
  },
  "language_info": {
   "codemirror_mode": {
    "name": "ipython",
    "version": 2
   },
   "file_extension": ".py",
   "mimetype": "text/x-python",
   "name": "python",
   "nbconvert_exporter": "python",
   "pygments_lexer": "ipython2",
   "version": "2.7.10"
  }
 },
 "nbformat": 4,
 "nbformat_minor": 0
}
